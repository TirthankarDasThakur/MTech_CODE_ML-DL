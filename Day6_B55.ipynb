{
 "cells": [
  {
   "cell_type": "code",
   "execution_count": 7,
   "id": "2e831820",
   "metadata": {},
   "outputs": [
    {
     "name": "stdout",
     "output_type": "stream",
     "text": [
      "['sunil', 'ruksana', 'naveen', 'meghna', 'sumalatha']\n"
     ]
    }
   ],
   "source": [
    "students=['sunil','ruksana','naveen','meghna','sumalatha']\n",
    "print(students)"
   ]
  },
  {
   "cell_type": "code",
   "execution_count": null,
   "id": "7494c125",
   "metadata": {},
   "outputs": [],
   "source": [
    "#req: I want to appriciate all the students above?"
   ]
  },
  {
   "cell_type": "code",
   "execution_count": 4,
   "id": "32ca15cc",
   "metadata": {},
   "outputs": [
    {
     "name": "stdout",
     "output_type": "stream",
     "text": [
      "keep up the good work,Sunil\n"
     ]
    }
   ],
   "source": [
    "print(f\"keep up the good work,{students[0].title()}\")"
   ]
  },
  {
   "cell_type": "code",
   "execution_count": 8,
   "id": "b8edd78d",
   "metadata": {},
   "outputs": [
    {
     "name": "stdout",
     "output_type": "stream",
     "text": [
      "keep up the good work,Ruksana\n"
     ]
    }
   ],
   "source": [
    "print(f\"keep up the good work,{students[1].title()}\")"
   ]
  },
  {
   "cell_type": "code",
   "execution_count": 9,
   "id": "4dbb5253",
   "metadata": {},
   "outputs": [
    {
     "name": "stdout",
     "output_type": "stream",
     "text": [
      "keep up the good work,Naveen\n"
     ]
    }
   ],
   "source": [
    "print(f\"keep up the good work,{students[2].title()}\")"
   ]
  },
  {
   "cell_type": "code",
   "execution_count": 11,
   "id": "620c8e77",
   "metadata": {},
   "outputs": [
    {
     "name": "stdout",
     "output_type": "stream",
     "text": [
      "keep up the good work,Sunil\n",
      "keep up the good work,Ruksana\n",
      "keep up the good work,Naveen\n",
      "keep up the good work,Meghna\n",
      "keep up the good work,Sumalatha\n"
     ]
    }
   ],
   "source": [
    "for x in students:\n",
    "     print(f\"keep up the good work,{x.title()}\")"
   ]
  },
  {
   "cell_type": "code",
   "execution_count": 12,
   "id": "fb326c0d",
   "metadata": {},
   "outputs": [
    {
     "name": "stdout",
     "output_type": "stream",
     "text": [
      "sunil\n",
      "ruksana\n",
      "naveen\n",
      "meghna\n",
      "sumalatha\n"
     ]
    }
   ],
   "source": [
    "for a in students:\n",
    "    print(a)"
   ]
  },
  {
   "cell_type": "code",
   "execution_count": 13,
   "id": "39a98224",
   "metadata": {},
   "outputs": [
    {
     "name": "stdout",
     "output_type": "stream",
     "text": [
      "keep up the good work,Sunil\n",
      "keep up the good work,Ruksana\n",
      "keep up the good work,Naveen\n",
      "keep up the good work,Meghna\n",
      "keep up the good work,Sumalatha\n"
     ]
    }
   ],
   "source": [
    "for ironman in students:\n",
    "    print(f\"keep up the good work,{ironman.title()}\")"
   ]
  },
  {
   "cell_type": "code",
   "execution_count": 14,
   "id": "c9848378",
   "metadata": {},
   "outputs": [],
   "source": [
    "#req: I also want to tell them that \"I will be looking for todays github url in my inbox\""
   ]
  },
  {
   "cell_type": "code",
   "execution_count": 15,
   "id": "f3fe99ca",
   "metadata": {},
   "outputs": [
    {
     "name": "stdout",
     "output_type": "stream",
     "text": [
      "keep up the good work,Sunil\n",
      "I will be looking forword to receive your Github URLs to my inbox,Sunil\n",
      "keep up the good work,Ruksana\n",
      "I will be looking forword to receive your Github URLs to my inbox,Ruksana\n",
      "keep up the good work,Naveen\n",
      "I will be looking forword to receive your Github URLs to my inbox,Naveen\n",
      "keep up the good work,Meghna\n",
      "I will be looking forword to receive your Github URLs to my inbox,Meghna\n",
      "keep up the good work,Sumalatha\n",
      "I will be looking forword to receive your Github URLs to my inbox,Sumalatha\n"
     ]
    }
   ],
   "source": [
    "for x in students:\n",
    "    print(f\"keep up the good work,{x.title()}\")\n",
    "    print(f\"I will be looking forword to receive your Github URLs to my inbox,{x.title()}\")"
   ]
  },
  {
   "cell_type": "code",
   "execution_count": 16,
   "id": "57c0d3f9",
   "metadata": {},
   "outputs": [
    {
     "name": "stdout",
     "output_type": "stream",
     "text": [
      "keep up the good work,Sunil\n",
      "I will be looking forword to receive your Github URLs to my inbox,Sunil\n",
      "\n",
      "keep up the good work,Ruksana\n",
      "I will be looking forword to receive your Github URLs to my inbox,Ruksana\n",
      "\n",
      "keep up the good work,Naveen\n",
      "I will be looking forword to receive your Github URLs to my inbox,Naveen\n",
      "\n",
      "keep up the good work,Meghna\n",
      "I will be looking forword to receive your Github URLs to my inbox,Meghna\n",
      "\n",
      "keep up the good work,Sumalatha\n",
      "I will be looking forword to receive your Github URLs to my inbox,Sumalatha\n",
      "\n"
     ]
    }
   ],
   "source": [
    "for x in students:\n",
    "    print(f\"keep up the good work,{x.title()}\")\n",
    "    print(f\"I will be looking forword to receive your Github URLs to my inbox,{x.title()}\\n\")"
   ]
  },
  {
   "cell_type": "code",
   "execution_count": 17,
   "id": "6f448273",
   "metadata": {},
   "outputs": [
    {
     "name": "stdout",
     "output_type": "stream",
     "text": [
      "keep up the good work,Sunil\n",
      "I will be looking forword to receive your Github URLs to my inbox,Sunil\n",
      "keep up the good work,Ruksana\n",
      "I will be looking forword to receive your Github URLs to my inbox,Ruksana\n",
      "keep up the good work,Naveen\n",
      "I will be looking forword to receive your Github URLs to my inbox,Naveen\n",
      "keep up the good work,Meghna\n",
      "I will be looking forword to receive your Github URLs to my inbox,Meghna\n",
      "keep up the good work,Sumalatha\n",
      "I will be looking forword to receive your Github URLs to my inbox,Sumalatha\n",
      "Thank you all for the joining the season\n"
     ]
    }
   ],
   "source": [
    "for x in students:\n",
    "    print(f\"keep up the good work,{x.title()}\")\n",
    "    print(f\"I will be looking forword to receive your Github URLs to my inbox,{x.title()}\")\n",
    "print (\"Thank you all for the joining the season\")"
   ]
  }
 ],
 "metadata": {
  "kernelspec": {
   "display_name": "Python 3",
   "language": "python",
   "name": "python3"
  },
  "language_info": {
   "codemirror_mode": {
    "name": "ipython",
    "version": 3
   },
   "file_extension": ".py",
   "mimetype": "text/x-python",
   "name": "python",
   "nbconvert_exporter": "python",
   "pygments_lexer": "ipython3",
   "version": "3.8.8"
  }
 },
 "nbformat": 4,
 "nbformat_minor": 5
}
