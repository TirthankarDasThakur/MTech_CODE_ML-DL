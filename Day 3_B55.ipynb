{
 "cells": [
  {
   "cell_type": "code",
   "execution_count": 1,
   "id": "c853db04",
   "metadata": {},
   "outputs": [
    {
     "name": "stdout",
     "output_type": "stream",
     "text": [
      "john\n"
     ]
    }
   ],
   "source": [
    "name='john'\n",
    "print(name)"
   ]
  },
  {
   "cell_type": "code",
   "execution_count": 2,
   "id": "8cbb9653",
   "metadata": {},
   "outputs": [
    {
     "data": {
      "text/plain": [
       "str"
      ]
     },
     "execution_count": 2,
     "metadata": {},
     "output_type": "execute_result"
    }
   ],
   "source": [
    "type(name)"
   ]
  },
  {
   "cell_type": "code",
   "execution_count": 4,
   "id": "57b5445a",
   "metadata": {},
   "outputs": [
    {
     "name": "stdout",
     "output_type": "stream",
     "text": [
      "naveen kumar\n"
     ]
    }
   ],
   "source": [
    "full_name='naveen kumar'\n",
    "print(full_name)"
   ]
  },
  {
   "cell_type": "code",
   "execution_count": 5,
   "id": "87539a63",
   "metadata": {},
   "outputs": [
    {
     "name": "stdout",
     "output_type": "stream",
     "text": [
      "Naveen Kumar\n"
     ]
    }
   ],
   "source": [
    "print(full_name.title())"
   ]
  },
  {
   "cell_type": "code",
   "execution_count": null,
   "id": "254fba40",
   "metadata": {},
   "outputs": [],
   "source": [
    "#req: i want to get the complete name in Capital letters?"
   ]
  },
  {
   "cell_type": "code",
   "execution_count": 6,
   "id": "6cdde04d",
   "metadata": {},
   "outputs": [
    {
     "name": "stdout",
     "output_type": "stream",
     "text": [
      "NAVEEN KUMAR\n"
     ]
    }
   ],
   "source": [
    "print(full_name.upper())"
   ]
  },
  {
   "cell_type": "code",
   "execution_count": null,
   "id": "6db4c264",
   "metadata": {},
   "outputs": [],
   "source": [
    "#req: i want to get the complete name in the small case letters?"
   ]
  },
  {
   "cell_type": "code",
   "execution_count": 7,
   "id": "79b503f8",
   "metadata": {},
   "outputs": [
    {
     "name": "stdout",
     "output_type": "stream",
     "text": [
      "naveen kumar\n"
     ]
    }
   ],
   "source": [
    "print(full_name.lower())"
   ]
  },
  {
   "cell_type": "code",
   "execution_count": 8,
   "id": "135efce6",
   "metadata": {},
   "outputs": [],
   "source": [
    "firstname='sunil'\n",
    "lastname='yadav' "
   ]
  },
  {
   "cell_type": "code",
   "execution_count": null,
   "id": "e16ba714",
   "metadata": {},
   "outputs": [],
   "source": [
    "# req: I want to get the fullname?"
   ]
  },
  {
   "cell_type": "code",
   "execution_count": 19,
   "id": "4afd5dbb",
   "metadata": {},
   "outputs": [
    {
     "name": "stdout",
     "output_type": "stream",
     "text": [
      "Sunil yadav\n"
     ]
    }
   ],
   "source": [
    "fullname=f\"{firstname} {lastname}\"\n",
    "print(fullname)"
   ]
  },
  {
   "cell_type": "code",
   "execution_count": 14,
   "id": "7ba96ca3",
   "metadata": {},
   "outputs": [
    {
     "name": "stdout",
     "output_type": "stream",
     "text": [
      "Sunil Yadav\n"
     ]
    }
   ],
   "source": [
    "print(fullname.title())"
   ]
  },
  {
   "cell_type": "code",
   "execution_count": null,
   "id": "841725a7",
   "metadata": {},
   "outputs": [],
   "source": [
    "#req: I want to appreciate sunil for sending the running notes to me daily."
   ]
  },
  {
   "cell_type": "code",
   "execution_count": 17,
   "id": "90f2afd4",
   "metadata": {},
   "outputs": [
    {
     "name": "stdout",
     "output_type": "stream",
     "text": [
      "keep up the good work,Sunil Yadav\n"
     ]
    }
   ],
   "source": [
    "message=f\"keep up the good work,{fullname.title()}\"\n",
    "print(message)"
   ]
  },
  {
   "cell_type": "code",
   "execution_count": 4,
   "id": "43a7b032",
   "metadata": {},
   "outputs": [
    {
     "name": "stdout",
     "output_type": "stream",
     "text": [
      "favourite_language:pythonc++javaswiftccobal\n"
     ]
    }
   ],
   "source": [
    "print(\"favourite_language:pythonc++javaswiftccobal\")"
   ]
  },
  {
   "cell_type": "code",
   "execution_count": 5,
   "id": "ecc5a5af",
   "metadata": {},
   "outputs": [
    {
     "name": "stdout",
     "output_type": "stream",
     "text": [
      "favourite_language:\n",
      "python\n",
      "c++\n",
      "java\n",
      "swift\n",
      "c\n",
      "cobal\n"
     ]
    }
   ],
   "source": [
    "print(\"favourite_language:\\npython\\nc++\\njava\\nswift\\nc\\ncobal\")"
   ]
  },
  {
   "cell_type": "code",
   "execution_count": 6,
   "id": "b2d84bf8",
   "metadata": {},
   "outputs": [
    {
     "name": "stdout",
     "output_type": "stream",
     "text": [
      "favourite_language:\n",
      "\tpython\n",
      "\tc++\n",
      "\tjava\n",
      "\tswift\n",
      "\tc\n",
      "\tcobal\n"
     ]
    }
   ],
   "source": [
    "print(\"favourite_language:\\n\\tpython\\n\\tc++\\n\\tjava\\n\\tswift\\n\\tc\\n\\tcobal\")"
   ]
  },
  {
   "cell_type": "code",
   "execution_count": 7,
   "id": "a80f2a04",
   "metadata": {},
   "outputs": [
    {
     "name": "stdout",
     "output_type": "stream",
     "text": [
      "python\n"
     ]
    }
   ],
   "source": [
    "name='python'\n",
    "print(name)"
   ]
  },
  {
   "cell_type": "code",
   "execution_count": 8,
   "id": "00abaa7d",
   "metadata": {},
   "outputs": [
    {
     "name": "stdout",
     "output_type": "stream",
     "text": [
      " python\n"
     ]
    }
   ],
   "source": [
    "name2=' python' #left side\n",
    "print(name2)"
   ]
  },
  {
   "cell_type": "code",
   "execution_count": 9,
   "id": "88969440",
   "metadata": {},
   "outputs": [
    {
     "name": "stdout",
     "output_type": "stream",
     "text": [
      "python \n"
     ]
    }
   ],
   "source": [
    "name3='python ' #right side\n",
    "print(name3)"
   ]
  },
  {
   "cell_type": "code",
   "execution_count": 10,
   "id": "bb026a79",
   "metadata": {},
   "outputs": [
    {
     "data": {
      "text/plain": [
       "'python'"
      ]
     },
     "execution_count": 10,
     "metadata": {},
     "output_type": "execute_result"
    }
   ],
   "source": [
    "name2.lstrip()\n",
    "name3.rstrip()"
   ]
  },
  {
   "cell_type": "code",
   "execution_count": 11,
   "id": "78aa21ac",
   "metadata": {},
   "outputs": [
    {
     "name": "stdout",
     "output_type": "stream",
     "text": [
      " python\n"
     ]
    }
   ],
   "source": [
    "name4= ' python'\n",
    "print(name4)"
   ]
  },
  {
   "cell_type": "code",
   "execution_count": 12,
   "id": "b73adc98",
   "metadata": {},
   "outputs": [
    {
     "data": {
      "text/plain": [
       "'python'"
      ]
     },
     "execution_count": 12,
     "metadata": {},
     "output_type": "execute_result"
    }
   ],
   "source": [
    "name4.strip()"
   ]
  }
 ],
 "metadata": {
  "kernelspec": {
   "display_name": "Python 3",
   "language": "python",
   "name": "python3"
  },
  "language_info": {
   "codemirror_mode": {
    "name": "ipython",
    "version": 3
   },
   "file_extension": ".py",
   "mimetype": "text/x-python",
   "name": "python",
   "nbconvert_exporter": "python",
   "pygments_lexer": "ipython3",
   "version": "3.8.8"
  }
 },
 "nbformat": 4,
 "nbformat_minor": 5
}
