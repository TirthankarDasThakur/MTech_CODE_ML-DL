{
 "cells": [
  {
   "cell_type": "code",
   "execution_count": 3,
   "id": "f53f6a55",
   "metadata": {},
   "outputs": [],
   "source": [
    "students=['Anil','Simran','Sreeja','Kriti','Rafi','Salini']"
   ]
  },
  {
   "cell_type": "code",
   "execution_count": 4,
   "id": "e066a09e",
   "metadata": {},
   "outputs": [
    {
     "name": "stdout",
     "output_type": "stream",
     "text": [
      "['Anil', 'Simran', 'Sreeja', 'Kriti', 'Rafi', 'Salini']\n"
     ]
    }
   ],
   "source": [
    "print(students)"
   ]
  },
  {
   "cell_type": "code",
   "execution_count": 5,
   "id": "8daac89d",
   "metadata": {},
   "outputs": [
    {
     "data": {
      "text/plain": [
       "list"
      ]
     },
     "execution_count": 5,
     "metadata": {},
     "output_type": "execute_result"
    }
   ],
   "source": [
    "type(students)"
   ]
  },
  {
   "cell_type": "code",
   "execution_count": null,
   "id": "aad8e157",
   "metadata": {},
   "outputs": [],
   "source": [
    "#req: I want to acess simran from above list...?"
   ]
  },
  {
   "cell_type": "code",
   "execution_count": 7,
   "id": "ddeff6ab",
   "metadata": {},
   "outputs": [
    {
     "name": "stdout",
     "output_type": "stream",
     "text": [
      "Simran\n"
     ]
    }
   ],
   "source": [
    "print(students[1])"
   ]
  },
  {
   "cell_type": "code",
   "execution_count": 8,
   "id": "633b4806",
   "metadata": {},
   "outputs": [
    {
     "name": "stdout",
     "output_type": "stream",
     "text": [
      "Kriti\n"
     ]
    }
   ],
   "source": [
    "print(students[3])"
   ]
  },
  {
   "cell_type": "code",
   "execution_count": 9,
   "id": "91d4f83b",
   "metadata": {},
   "outputs": [
    {
     "name": "stdout",
     "output_type": "stream",
     "text": [
      "['Anil', 'Simran', 'Sreeja', 'Kriti', 'Rafi', 'Salini']\n"
     ]
    }
   ],
   "source": [
    "print(students)"
   ]
  },
  {
   "cell_type": "code",
   "execution_count": null,
   "id": "2c437801",
   "metadata": {},
   "outputs": [],
   "source": [
    "#req: I want to add Naveen to the above list"
   ]
  },
  {
   "cell_type": "code",
   "execution_count": 10,
   "id": "ec5c6f09",
   "metadata": {},
   "outputs": [
    {
     "name": "stdout",
     "output_type": "stream",
     "text": [
      "['Anil', 'Simran', 'Sreeja', 'Kriti', 'Rafi', 'Salini', 'Naveen']\n"
     ]
    }
   ],
   "source": [
    "students.append('Naveen')\n",
    "print(students)"
   ]
  },
  {
   "cell_type": "code",
   "execution_count": null,
   "id": "adb6bc5e",
   "metadata": {},
   "outputs": [],
   "source": [
    "#req: I want to add Adil to the above list...?"
   ]
  },
  {
   "cell_type": "code",
   "execution_count": 11,
   "id": "c4d52dcc",
   "metadata": {},
   "outputs": [
    {
     "name": "stdout",
     "output_type": "stream",
     "text": [
      "['Anil', 'Simran', 'Sreeja', 'Kriti', 'Rafi', 'Salini', 'Naveen', 'Adil']\n"
     ]
    }
   ],
   "source": [
    "students.append('Adil')\n",
    "print(students)"
   ]
  },
  {
   "cell_type": "code",
   "execution_count": null,
   "id": "054b96dd",
   "metadata": {},
   "outputs": [],
   "source": [
    "students.insert('Adil')\n",
    "print(students)"
   ]
  },
  {
   "cell_type": "code",
   "execution_count": null,
   "id": "dee678f9",
   "metadata": {},
   "outputs": [],
   "source": [
    "#req: I want to add Pallavi to the second index  list...?"
   ]
  },
  {
   "cell_type": "code",
   "execution_count": 19,
   "id": "3bf05528",
   "metadata": {},
   "outputs": [
    {
     "name": "stdout",
     "output_type": "stream",
     "text": [
      "['Anil', 'Simran', 'Pallavi', 'Sreeja', 'Kriti', 'Rafi', 'Salini', 'Naveen', 'Adil']\n"
     ]
    }
   ],
   "source": [
    "students.insert(2,'Pallavi')\n",
    "print(students)"
   ]
  },
  {
   "cell_type": "code",
   "execution_count": null,
   "id": "77639abf",
   "metadata": {},
   "outputs": [],
   "source": [
    "#req: I want change Sreeja name to Meghna...?"
   ]
  },
  {
   "cell_type": "code",
   "execution_count": 20,
   "id": "0b6f731b",
   "metadata": {},
   "outputs": [
    {
     "name": "stdout",
     "output_type": "stream",
     "text": [
      "Sreeja\n"
     ]
    }
   ],
   "source": [
    "print(students[3])"
   ]
  },
  {
   "cell_type": "code",
   "execution_count": 21,
   "id": "3b3402a9",
   "metadata": {},
   "outputs": [
    {
     "name": "stdout",
     "output_type": "stream",
     "text": [
      "['Anil', 'Simran', 'Pallavi', 'Meghna', 'Kriti', 'Rafi', 'Salini', 'Naveen', 'Adil']\n"
     ]
    }
   ],
   "source": [
    "students[3]='Meghna'\n",
    "print(students)"
   ]
  },
  {
   "cell_type": "code",
   "execution_count": 23,
   "id": "70e27976",
   "metadata": {},
   "outputs": [
    {
     "name": "stdout",
     "output_type": "stream",
     "text": [
      "['Pallavi', 'Meghna', 'Kriti', 'Rafi', 'Salini', 'Naveen', 'Adil']\n"
     ]
    }
   ],
   "source": [
    "del students[0]\n",
    "print(students)"
   ]
  }
 ],
 "metadata": {
  "kernelspec": {
   "display_name": "Python 3",
   "language": "python",
   "name": "python3"
  },
  "language_info": {
   "codemirror_mode": {
    "name": "ipython",
    "version": 3
   },
   "file_extension": ".py",
   "mimetype": "text/x-python",
   "name": "python",
   "nbconvert_exporter": "python",
   "pygments_lexer": "ipython3",
   "version": "3.8.8"
  }
 },
 "nbformat": 4,
 "nbformat_minor": 5
}
