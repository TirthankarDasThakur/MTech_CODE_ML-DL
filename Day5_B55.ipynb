{
 "cells": [
  {
   "cell_type": "code",
   "execution_count": 1,
   "id": "e6507a1e",
   "metadata": {},
   "outputs": [
    {
     "name": "stdout",
     "output_type": "stream",
     "text": [
      "['audi', 'benz', 'bmw', 'kia', 'maruthi', 'hyundai']\n"
     ]
    }
   ],
   "source": [
    "cars=['audi','benz','bmw','kia','maruthi','hyundai']\n",
    "print(cars)"
   ]
  },
  {
   "cell_type": "code",
   "execution_count": 2,
   "id": "736731ac",
   "metadata": {},
   "outputs": [],
   "source": [
    "#req: I want to get the output in the aplhabetical order -----> A-Z"
   ]
  },
  {
   "cell_type": "code",
   "execution_count": 3,
   "id": "276aa133",
   "metadata": {},
   "outputs": [
    {
     "name": "stdout",
     "output_type": "stream",
     "text": [
      "['audi', 'benz', 'bmw', 'hyundai', 'kia', 'maruthi']\n"
     ]
    }
   ],
   "source": [
    "print(sorted(cars))\n"
   ]
  },
  {
   "cell_type": "code",
   "execution_count": 4,
   "id": "c583aa46",
   "metadata": {},
   "outputs": [
    {
     "name": "stdout",
     "output_type": "stream",
     "text": [
      "['audi', 'benz', 'bmw', 'kia', 'maruthi', 'hyundai']\n"
     ]
    }
   ],
   "source": [
    "print(cars)"
   ]
  },
  {
   "cell_type": "code",
   "execution_count": 5,
   "id": "b0ca6c13",
   "metadata": {},
   "outputs": [],
   "source": [
    "#req: I want to print the entire list in reverse order "
   ]
  },
  {
   "cell_type": "code",
   "execution_count": 6,
   "id": "ec5bf015",
   "metadata": {},
   "outputs": [
    {
     "name": "stdout",
     "output_type": "stream",
     "text": [
      "['hyundai', 'maruthi', 'kia', 'bmw', 'benz', 'audi']\n"
     ]
    }
   ],
   "source": [
    "cars.reverse()\n",
    "print(cars)"
   ]
  },
  {
   "cell_type": "code",
   "execution_count": 7,
   "id": "57dbdf03",
   "metadata": {},
   "outputs": [],
   "source": [
    "#req: I want to know the count of elements "
   ]
  },
  {
   "cell_type": "code",
   "execution_count": 8,
   "id": "fe02d929",
   "metadata": {},
   "outputs": [
    {
     "data": {
      "text/plain": [
       "6"
      ]
     },
     "execution_count": 8,
     "metadata": {},
     "output_type": "execute_result"
    }
   ],
   "source": [
    "len(cars)"
   ]
  },
  {
   "cell_type": "code",
   "execution_count": 12,
   "id": "953b4e51",
   "metadata": {},
   "outputs": [],
   "source": [
    "students=['ravi','abdul','naveen','kumar','ruksana','simran','keerthi','kalpana']"
   ]
  },
  {
   "cell_type": "code",
   "execution_count": 13,
   "id": "53bd863f",
   "metadata": {},
   "outputs": [],
   "source": [
    "#req: I want to ravi and abdul below list output?"
   ]
  },
  {
   "cell_type": "code",
   "execution_count": 14,
   "id": "8735183b",
   "metadata": {},
   "outputs": [
    {
     "name": "stdout",
     "output_type": "stream",
     "text": [
      "['ravi']\n"
     ]
    }
   ],
   "source": [
    "print(students[0:1])\n"
   ]
  },
  {
   "cell_type": "code",
   "execution_count": 15,
   "id": "39e6dca9",
   "metadata": {},
   "outputs": [
    {
     "name": "stdout",
     "output_type": "stream",
     "text": [
      "['ravi', 'abdul']\n"
     ]
    }
   ],
   "source": [
    "print(students[0:2])"
   ]
  },
  {
   "cell_type": "code",
   "execution_count": 16,
   "id": "093e84fe",
   "metadata": {},
   "outputs": [],
   "source": [
    "# req: I want to naveen and kumar in the below list output?"
   ]
  },
  {
   "cell_type": "code",
   "execution_count": 17,
   "id": "e9157683",
   "metadata": {},
   "outputs": [
    {
     "name": "stdout",
     "output_type": "stream",
     "text": [
      "['naveen', 'kumar']\n"
     ]
    }
   ],
   "source": [
    "print(students[2:4])"
   ]
  },
  {
   "cell_type": "code",
   "execution_count": 18,
   "id": "e4d1a752",
   "metadata": {},
   "outputs": [
    {
     "name": "stdout",
     "output_type": "stream",
     "text": [
      "['ravi', 'naveen', 'ruksana', 'keerthi']\n"
     ]
    }
   ],
   "source": [
    "print(students[0:8:2])"
   ]
  }
 ],
 "metadata": {
  "kernelspec": {
   "display_name": "Python 3",
   "language": "python",
   "name": "python3"
  },
  "language_info": {
   "codemirror_mode": {
    "name": "ipython",
    "version": 3
   },
   "file_extension": ".py",
   "mimetype": "text/x-python",
   "name": "python",
   "nbconvert_exporter": "python",
   "pygments_lexer": "ipython3",
   "version": "3.8.8"
  }
 },
 "nbformat": 4,
 "nbformat_minor": 5
}
